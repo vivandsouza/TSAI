{
  "nbformat": 4,
  "nbformat_minor": 0,
  "metadata": {
    "colab": {
      "name": "Back Propagation.ipynb",
      "version": "0.3.2",
      "provenance": [],
      "collapsed_sections": [],
      "include_colab_link": true
    },
    "kernelspec": {
      "name": "python3",
      "display_name": "Python 3"
    }
  },
  "cells": [
    {
      "cell_type": "markdown",
      "metadata": {
        "id": "view-in-github",
        "colab_type": "text"
      },
      "source": [
        "<a href=\"https://colab.research.google.com/github/vivandsouza/TSAI/blob/master/Back_Propagation.ipynb\" target=\"_parent\"><img src=\"https://colab.research.google.com/assets/colab-badge.svg\" alt=\"Open In Colab\"/></a>"
      ]
    },
    {
      "cell_type": "code",
      "metadata": {
        "id": "adi5ag5XtgPr",
        "colab_type": "code",
        "outputId": "68167f9a-5538-42ec-cab1-02b178893e93",
        "colab": {
          "base_uri": "https://localhost:8080/",
          "height": 175
        }
      },
      "source": [
        "import numpy as np\n",
        "\n",
        "## Weights\n",
        "w1 = 0.15\n",
        "w2 = 0.20\n",
        "w3 = 0.10\n",
        "w4 = 0.12\n",
        "w5 = 0.11\n",
        "w6 = 0.16\n",
        "\n",
        "## Inputs\n",
        "i1 = 2\n",
        "i2 = 3\n",
        "\n",
        "## Output\n",
        "actual = 1\n",
        "\n",
        "\n",
        "## Forward pass\n",
        "h1_h2 = np.matmul(np.array([[i1, i2]]), np.array([[w1, w3], [w2, w4]]))\n",
        "print(h1_h2)\n",
        "prediction = np.matmul(h1_h2, np.array([[w5], [w6]]))\n",
        "print(prediction)\n",
        "\n",
        "## Calculating the error\n",
        "Error = ((prediction - actual)**2)/2\n",
        "print(Error)\n",
        "\n",
        "\n",
        "## Back propagation\n",
        "delta = prediction - actual\n",
        "a = 0.05   ## Learning rate\n",
        "\n",
        "##new w5 and w6 weights\n",
        "w5_w6_new = np.array([[w5], [w6]]) - ((a*delta) * np.array(h1_h2.T))\n",
        "print(w5_w6_new)\n",
        "\n",
        "## new w1, w2, w3 and w4 weights\n",
        "w1_w2_w3_w4_new = np.array([[w1, w3], [w2, w4]]) - ((a*delta) * (np.matmul(np.array([[i1], [i2]]), np.array([[w5, w6]]))))\n",
        "print(w1_w2_w3_w4_new)\n",
        "\n",
        "\n",
        "h1_h2_new =np.matmul(np.array([[i1, i2]]), w1_w2_w3_w4_new)\n",
        "print(h1_h2_new)\n",
        "\n",
        "final_layer_new = np.matmul(h1_h2_new, w5_w6_new)\n",
        "print(final_layer_new)\n",
        "\n",
        "\n"
      ],
      "execution_count": 0,
      "outputs": [
        {
          "output_type": "stream",
          "text": [
            "[[0.9  0.56]]\n",
            "[[0.1886]]\n",
            "[[0.32918498]]\n",
            "[[0.146513 ]\n",
            " [0.1827192]]\n",
            "[[0.1589254 0.1129824]\n",
            " [0.2133881 0.1394736]]\n",
            "[[0.9580151 0.6443856]]\n",
            "[[0.25810329]]\n"
          ],
          "name": "stdout"
        }
      ]
    },
    {
      "cell_type": "code",
      "metadata": {
        "id": "6FP8PIK3c4It",
        "colab_type": "code",
        "outputId": "a35c1032-183c-4f8c-e015-aec720d61405",
        "colab": {
          "base_uri": "https://localhost:8080/",
          "height": 175
        }
      },
      "source": [
        "import numpy as np\n",
        "\n",
        "## Weights\n",
        "w1 = 0.16\n",
        "w2 = 0.21\n",
        "w3 = 0.11\n",
        "w4 = 0.14\n",
        "w5 = 0.15\n",
        "w6 = 0.18\n",
        "\n",
        "## Inputs\n",
        "i1 = 2\n",
        "i2 = 3\n",
        "\n",
        "## Output\n",
        "actual = 1\n",
        "\n",
        "## Forward pass\n",
        "h1_h2 = np.matmul(np.array([[i1, i2]]), np.array([[w1, w3], [w2, w4]]))\n",
        "print(h1_h2)\n",
        "prediction = np.matmul(h1_h2, np.array([[w5], [w6]]))\n",
        "print(prediction)\n",
        "\n",
        "## Calculating the error\n",
        "Error = ((prediction - actual)**2)/2\n",
        "print(Error)\n",
        "\n",
        "\n",
        "## Back propagation\n",
        "delta = prediction - actual\n",
        "a = 0.05   ## Learning rate\n",
        "\n",
        "##new w5 and w6 weights\n",
        "w5_w6_new = np.array([[w5], [w6]]) - ((a*delta) * np.array(h1_h2.T))\n",
        "print(w5_w6_new)\n",
        "\n",
        "## new w1, w2, w3 and w4 weights\n",
        "w1_w2_w3_w4_new = np.array([[w1, w3], [w2, w4]]) - ((a*delta) * (np.matmul(np.array([[i1], [i2]]), np.array([[w5, w6]]))))\n",
        "print(w1_w2_w3_w4_new)\n",
        "\n",
        "\n",
        "h1_h2_new =np.matmul(np.array([[i1, i2]]), w1_w2_w3_w4_new)\n",
        "print(h1_h2_new)\n",
        "\n",
        "final_layer_new = np.matmul(h1_h2_new, w5_w6_new)\n",
        "print(final_layer_new)\n",
        "\n"
      ],
      "execution_count": 0,
      "outputs": [
        {
          "output_type": "stream",
          "text": [
            "[[0.95 0.64]]\n",
            "[[0.2577]]\n",
            "[[0.27550464]]\n",
            "[[0.18525925]\n",
            " [0.2037536 ]]\n",
            "[[0.1711345  0.1233614 ]\n",
            " [0.22670175 0.1600421 ]]\n",
            "[[1.02237425 0.7268491 ]]\n",
            "[[0.33750241]]\n"
          ],
          "name": "stdout"
        }
      ]
    }
  ]
}